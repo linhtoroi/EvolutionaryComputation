{
 "cells": [
  {
   "cell_type": "code",
   "execution_count": 1,
   "metadata": {},
   "outputs": [],
   "source": [
    "import numpy as np\n",
    "\n",
    "def initialisation():\n",
    "    array = []\n",
    "    p = np.full((8), 1/8)\n",
    "    while len(array) < 8:\n",
    "        nb = np.random.choice(8, 1, p=p)[0]\n",
    "        if nb not in array:\n",
    "            array.append(nb)\n",
    "            if len(array) < 0:\n",
    "                p = np.full((8), 1/(8-len(array)))\n",
    "                p = [0 if i in array else p[i] for i in range(len(p))]\n",
    "    return array"
   ]
  },
  {
   "cell_type": "code",
   "execution_count": 2,
   "metadata": {},
   "outputs": [],
   "source": [
    "def get_penalty(individual):\n",
    "    pen = np.zeros(8)\n",
    "    for i in range(8):\n",
    "        for k in range(i):\n",
    "            if individual[i]+(i-k) <= 7:\n",
    "                if k!=i and individual[k] == individual[i]+(i-k):\n",
    "                    pen[i]+=1\n",
    "            if individual[i]-(i-k) >= 0:\n",
    "                if k!=i and individual[k] == individual[i]-(i-k):\n",
    "                    pen[i]+=1\n",
    "        for k in range(i, 8):\n",
    "            if individual[i]+(k-i) <= 7:\n",
    "                if k!=i and individual[k] == individual[i]+(k-i):\n",
    "                    pen[i]+=1\n",
    "            if individual[i]-(k-i) >= 0:\n",
    "                if k!=i and individual[k] == individual[i]-(k-i):\n",
    "                    pen[i]+=1\n",
    "\n",
    "        # for i in range(8):\n",
    "        #     pen[i]+=(individual == individual[i]).sum()-1\n",
    "    \n",
    "    return pen"
   ]
  },
  {
   "cell_type": "code",
   "execution_count": 82,
   "metadata": {},
   "outputs": [],
   "source": [
    "import tqdm\n",
    "def eight_queens(num_population, termination_loop):\n",
    "    min_fitness = []\n",
    "    population = []\n",
    "    for i in range(num_population):\n",
    "        population.append(initialisation())\n",
    "\n",
    "    penalty = []\n",
    "    for individual in population:\n",
    "        penalty.append(get_penalty(individual))\n",
    "\n",
    "    for _ in range(termination_loop):\n",
    "        random_5_parents = np.random.randint(0, num_population-1, 5)\n",
    "        min_2_parent = [np.inf,0]\n",
    "        min_1_parent = [np.inf,0]\n",
    "        for i in random_5_parents:\n",
    "            if np.sum(penalty[i]) < min_1_parent[0]:\n",
    "                min_2_parent = min_1_parent\n",
    "                min_1_parent = [np.sum(penalty[i]), i]\n",
    "            elif np.sum(penalty[i]) < min_2_parent[0]:\n",
    "                min_2_parent = [np.sum(penalty[i]), i]\n",
    "        p1, p2 = population[min_1_parent[1]], population[min_2_parent[1]]\n",
    "\n",
    "        crossover_point = np.random.randint(8)\n",
    "        children_1 = []\n",
    "        children_2 = []\n",
    "\n",
    "        children_1+=p1[:crossover_point]\n",
    "        children_2+=p2[:crossover_point]\n",
    "\n",
    "        for i in p2[crossover_point:]+p2[:crossover_point]:\n",
    "            if i not in children_1:\n",
    "                children_1.append(i)\n",
    "                \n",
    "        for i in p1[crossover_point:]+p1[:crossover_point]:\n",
    "            if i not in children_2:\n",
    "                children_2.append(i)\n",
    "\n",
    "        mutation = np.random.choice(2, p = [0.2, 0.8])\n",
    "        if mutation==1:\n",
    "            random_position = np.random.randint(8,size=2)\n",
    "            temp = children_1[random_position[0]]\n",
    "            children_1[random_position[0]] = children_1[random_position[1]]\n",
    "            children_1[random_position[1]] = temp\n",
    "\n",
    "            random_position = np.random.randint(8,size=2)\n",
    "            temp = children_2[random_position[0]]\n",
    "            children_2[random_position[0]] = children_2[random_position[1]]\n",
    "            children_2[random_position[1]] = temp\n",
    "        \n",
    "        population.append(children_1)\n",
    "        population.append(children_2)\n",
    "\n",
    "        penalty.append(get_penalty(children_1))\n",
    "        penalty.append(get_penalty(children_2))\n",
    "\n",
    "        dict = {}\n",
    "        for tt in range(len(penalty)):\n",
    "            dict[tt] = np.sum(penalty[tt])\n",
    "        sort_penalty = sorted(dict.items(), key=lambda x: x[1], reverse=True)\n",
    "\n",
    "        min_fitness.append(sort_penalty[-1][1])\n",
    "        if sort_penalty[-1][1] == 0:\n",
    "            return population[sort_penalty[-1][0]], min_fitness\n",
    "\n",
    "        a = np.sort([sort_penalty[0][0], sort_penalty[1][0]])\n",
    "        for t in range(len(a)-1, -1, -1):\n",
    "            population.pop(a[t])\n",
    "            penalty.pop(a[t])\n",
    "\n",
    "    dict = {}\n",
    "    for tt in range(len(penalty)):\n",
    "        dict[tt] = np.sum(penalty[tt])\n",
    "    sort_penalty = sorted(dict.items(), key=lambda x: x[1], reverse=True)\n",
    "    \n",
    "    return population[sort_penalty[-1][0]], min_fitness\n",
    "\n",
    "    "
   ]
  },
  {
   "cell_type": "code",
   "execution_count": 45,
   "metadata": {},
   "outputs": [
    {
     "name": "stderr",
     "output_type": "stream",
     "text": [
      "  3%|▎         | 272/10000 [00:00<00:06, 1531.97it/s]\n"
     ]
    }
   ],
   "source": [
    "eight_queens(100, 10000)"
   ]
  }
 ],
 "metadata": {
  "interpreter": {
   "hash": "484b8e7efcbdd622d31f5a69f5c2fde6585b4a3a6c7471da05baf7235b530f7a"
  },
  "kernelspec": {
   "display_name": "Python 3.10.4 ('skill_onto')",
   "language": "python",
   "name": "python3"
  },
  "language_info": {
   "codemirror_mode": {
    "name": "ipython",
    "version": 3
   },
   "file_extension": ".py",
   "mimetype": "text/x-python",
   "name": "python",
   "nbconvert_exporter": "python",
   "pygments_lexer": "ipython3",
   "version": "3.10.4"
  },
  "orig_nbformat": 4
 },
 "nbformat": 4,
 "nbformat_minor": 2
}
