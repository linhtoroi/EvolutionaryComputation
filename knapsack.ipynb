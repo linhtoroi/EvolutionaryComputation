{
 "cells": [
  {
   "cell_type": "code",
   "execution_count": 1,
   "metadata": {},
   "outputs": [],
   "source": [
    "import numpy as np\n",
    "\n",
    "def initialisation(n):\n",
    "    array = np.random.randint(2, size=n)\n",
    "    return array"
   ]
  },
  {
   "cell_type": "code",
   "execution_count": 2,
   "metadata": {},
   "outputs": [],
   "source": [
    "def get_fitness(individual, costs, values, max_weight):\n",
    "    weight = np.multiply(individual, costs)\n",
    "    value = np.multiply(individual, values)\n",
    "    if np.sum(weight) <= max_weight:\n",
    "        return np.sum(value)\n",
    "    else:\n",
    "        return 0"
   ]
  },
  {
   "cell_type": "code",
   "execution_count": 28,
   "metadata": {},
   "outputs": [],
   "source": [
    "def knapsack(n, costs, values, max_weight, num_population, termination_loop):\n",
    "    population = []\n",
    "    fitness_max = []\n",
    "    fitness_max_2 = []\n",
    "    for i in range(num_population):\n",
    "        population.append(initialisation(n))\n",
    "    fitness = []\n",
    "    for i in population:\n",
    "        fitness.append(get_fitness(i, costs, values, max_weight))\n",
    "        \n",
    "    max_fitness = 0\n",
    "    loop = termination_loop\n",
    "    while loop!=0:\n",
    "        population_children = []\n",
    "        fitness_children = []\n",
    "        for i in range(int(num_population/2)):\n",
    "            cross_over = np.random.choice(2, p=[0.3, 0.7])\n",
    "            if cross_over == 1:\n",
    "                random_parent = np.random.randint(num_population, size=2)\n",
    "                if fitness[random_parent[0]] > fitness[random_parent[1]]:\n",
    "                    p1 = random_parent[0]\n",
    "                else:\n",
    "                    p1 = random_parent[1]\n",
    "\n",
    "                random_parent = np.random.randint(num_population, size=2)\n",
    "                if fitness[random_parent[0]] > fitness[random_parent[1]]:\n",
    "                    p2 = random_parent[0]\n",
    "                else:\n",
    "                    p2 = random_parent[1]\n",
    "                \n",
    "                cross_over_point = np.random.randint(n)\n",
    "\n",
    "                children_1 = list(population[p1][:cross_over_point])+list(population[p2][cross_over_point:])\n",
    "                children_2 = list(population[p2][:cross_over_point])+list(population[p1][cross_over_point:])\n",
    "            else:\n",
    "                children_1 = population[p1]\n",
    "                children_2 = population[p2]\n",
    "                \n",
    "            for t in range(len(children_1)):\n",
    "                if np.random.choice(2, p=[(1-1/n), 1/n]) == 1:\n",
    "                    children_1[t] = abs(children_1[t]-1)\n",
    "\n",
    "            for t in range(len(children_2)):\n",
    "                if np.random.choice(2, p=[(1-1/n), 1/n]) == 1:\n",
    "                    children_2[t] = abs(children_2[t]-1)\n",
    "            \n",
    "            population_children.append(children_1)\n",
    "            fitness_children.append(get_fitness(children_1, costs, values, max_weight))\n",
    "            population_children.append(children_2)\n",
    "            fitness_children.append(get_fitness(children_2, costs, values, max_weight))\n",
    "\n",
    "        population = population_children\n",
    "        fitness = fitness_children\n",
    "\n",
    "        fitness_max.append(np.max(fitness))\n",
    "        if np.max(fitness) > max_fitness:\n",
    "            max_fitness = np.max(fitness)\n",
    "            fitness_max_2.append(max_fitness)\n",
    "            loop = termination_loop\n",
    "        else:\n",
    "            loop -= 1\n",
    "            fitness_max_2.append(max_fitness)\n",
    "        \n",
    "\n",
    "    return population[np.argmax(fitness)], np.max(fitness), fitness_max, fitness_max_2"
   ]
  },
  {
   "cell_type": "code",
   "execution_count": 49,
   "metadata": {},
   "outputs": [],
   "source": [
    "knapsack(100, [54, 95, 36, 18, 4, 71, 83, 16, 27, 84, 88, 45, 94, 64, 14, 80, 4, 23,\n",
    "    75, 36, 90, 20, 77, 32, 58, 6, 14, 86, 84, 59, 71, 21, 30, 22, 96, 49, 81,\n",
    "    48, 37, 28, 6, 84, 19, 55, 88, 38, 51, 52, 79, 55, 70, 53, 64, 99, 61, 86,\n",
    "    1, 64, 32, 60, 42, 45, 34, 22, 49, 37, 33, 1, 78, 43, 85, 24, 96, 32, 99,\n",
    "    57, 23, 8, 10, 74, 59, 89, 95, 40, 46, 65, 6, 89, 84, 83, 6, 19, 45, 59,\n",
    "    26, 13, 8, 26, 5, 9], \n",
    "    [297, 295, 293, 292, 291, 289, 284, 284, 283, 283, 281, 280, 279,\n",
    "    277, 276, 275, 273,264, 260, 257, 250, 236, 236, 235, 235, 233, 232,\n",
    "    232, 228, 218, 217, 214, 211, 208, 205, 204, 203, 201, 196, 194, 193,\n",
    "    193, 192, 191, 190, 187, 187, 184, 184, 184, 181, 179, 176, 173, 172,\n",
    "    171, 160, 128, 123, 114, 113, 107, 105, 101, 100, 100, 99, 98, 97, 94,\n",
    "    94, 93, 91, 80, 74, 73, 72, 63, 63, 62, 61, 60, 56, 53, 52, 50, 48, 46,\n",
    "    40, 40, 35, 28, 22, 22, 18, 15, 12, 11, 6, 5], \n",
    "    3818, 500, 25)"
   ]
  }
 ],
 "metadata": {
  "interpreter": {
   "hash": "484b8e7efcbdd622d31f5a69f5c2fde6585b4a3a6c7471da05baf7235b530f7a"
  },
  "kernelspec": {
   "display_name": "Python 3.10.4 ('skill_onto')",
   "language": "python",
   "name": "python3"
  },
  "language_info": {
   "codemirror_mode": {
    "name": "ipython",
    "version": 3
   },
   "file_extension": ".py",
   "mimetype": "text/x-python",
   "name": "python",
   "nbconvert_exporter": "python",
   "pygments_lexer": "ipython3",
   "version": "3.10.4"
  },
  "orig_nbformat": 4
 },
 "nbformat": 4,
 "nbformat_minor": 2
}
